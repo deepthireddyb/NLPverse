{
  "nbformat": 4,
  "nbformat_minor": 0,
  "metadata": {
    "colab": {
      "provenance": [],
      "authorship_tag": "ABX9TyNJqKU7o9P3rD+RSAti9mqp"
    },
    "kernelspec": {
      "name": "python3",
      "display_name": "Python 3"
    },
    "language_info": {
      "name": "python"
    }
  },
  "cells": [
    {
      "cell_type": "code",
      "execution_count": 2,
      "metadata": {
        "colab": {
          "base_uri": "https://localhost:8080/"
        },
        "id": "R6Ju-q1SUNro",
        "outputId": "23c04390-e09f-4096-f9b5-f13f8e7424f6"
      },
      "outputs": [
        {
          "output_type": "stream",
          "name": "stdout",
          "text": [
            "Requirement already satisfied: gensim in /usr/local/lib/python3.11/dist-packages (4.3.3)\n",
            "Requirement already satisfied: nltk in /usr/local/lib/python3.11/dist-packages (3.9.1)\n",
            "Requirement already satisfied: numpy<2.0,>=1.18.5 in /usr/local/lib/python3.11/dist-packages (from gensim) (1.26.4)\n",
            "Requirement already satisfied: scipy<1.14.0,>=1.7.0 in /usr/local/lib/python3.11/dist-packages (from gensim) (1.13.1)\n",
            "Requirement already satisfied: smart-open>=1.8.1 in /usr/local/lib/python3.11/dist-packages (from gensim) (7.1.0)\n",
            "Requirement already satisfied: click in /usr/local/lib/python3.11/dist-packages (from nltk) (8.1.8)\n",
            "Requirement already satisfied: joblib in /usr/local/lib/python3.11/dist-packages (from nltk) (1.4.2)\n",
            "Requirement already satisfied: regex>=2021.8.3 in /usr/local/lib/python3.11/dist-packages (from nltk) (2024.11.6)\n",
            "Requirement already satisfied: tqdm in /usr/local/lib/python3.11/dist-packages (from nltk) (4.67.1)\n",
            "Requirement already satisfied: wrapt in /usr/local/lib/python3.11/dist-packages (from smart-open>=1.8.1->gensim) (1.17.2)\n"
          ]
        }
      ],
      "source": [
        "!pip install gensim nltk"
      ]
    },
    {
      "cell_type": "code",
      "source": [
        "import nltk\n",
        "import nltk.corpus\n",
        "from nltk.tokenize import word_tokenize\n",
        "import gensim\n",
        "from gensim.models import Word2Vec\n",
        "import matplotlib.pyplot as plt\n",
        "from sklearn.decomposition import PCA\n",
        "\n",
        "nltk.download('punkt')\n",
        "nltk.download('punkt_tab')"
      ],
      "metadata": {
        "colab": {
          "base_uri": "https://localhost:8080/"
        },
        "id": "xQ9tbvtVUSDt",
        "outputId": "9f15691c-3195-4498-91a0-8659d4e65861"
      },
      "execution_count": 3,
      "outputs": [
        {
          "output_type": "stream",
          "name": "stderr",
          "text": [
            "[nltk_data] Downloading package punkt to /root/nltk_data...\n",
            "[nltk_data]   Unzipping tokenizers/punkt.zip.\n",
            "[nltk_data] Downloading package punkt_tab to /root/nltk_data...\n",
            "[nltk_data]   Unzipping tokenizers/punkt_tab.zip.\n"
          ]
        },
        {
          "output_type": "execute_result",
          "data": {
            "text/plain": [
              "True"
            ]
          },
          "metadata": {},
          "execution_count": 3
        }
      ]
    },
    {
      "cell_type": "code",
      "source": [
        "#  Load Reuters dataset (news articles)"
      ],
      "metadata": {
        "id": "NB9MDAFtagHM"
      },
      "execution_count": 4,
      "outputs": []
    },
    {
      "cell_type": "code",
      "source": [
        "nltk.download('reuters')\n",
        "reuters = nltk.corpus.reuters\n",
        "documents = reuters.fileids()"
      ],
      "metadata": {
        "colab": {
          "base_uri": "https://localhost:8080/"
        },
        "id": "TMWwegofUSHR",
        "outputId": "caaf7864-2c98-40be-f511-f5d2e8319cf2"
      },
      "execution_count": 5,
      "outputs": [
        {
          "output_type": "stream",
          "name": "stderr",
          "text": [
            "[nltk_data] Downloading package reuters to /root/nltk_data...\n"
          ]
        }
      ]
    },
    {
      "cell_type": "code",
      "source": [],
      "metadata": {
        "id": "jrQ8sRbB9KqO"
      },
      "execution_count": null,
      "outputs": []
    },
    {
      "cell_type": "code",
      "source": [
        "def preprocess(text):\n",
        "    tokens = word_tokenize(text.lower())  # Lowercase & tokenize\n",
        "    tokens = [word for word in tokens if word.isalpha()]  # Remove punctuation/numbers\n",
        "    return tokens\n",
        "\n",
        "for file_id in documents[0:1]:\n",
        "  print(reuters.raw(file_id))\n",
        "tokens_returned = [preprocess(reuters.raw(file)) for file in documents]\n",
        "tokens_returned[0][0:20]"
      ],
      "metadata": {
        "colab": {
          "base_uri": "https://localhost:8080/"
        },
        "id": "KXVeQkOyUSKc",
        "outputId": "f7343dfd-4a19-499c-a8cc-c3c472b47ec8"
      },
      "execution_count": 6,
      "outputs": [
        {
          "output_type": "stream",
          "name": "stdout",
          "text": [
            "ASIAN EXPORTERS FEAR DAMAGE FROM U.S.-JAPAN RIFT\n",
            "  Mounting trade friction between the\n",
            "  U.S. And Japan has raised fears among many of Asia's exporting\n",
            "  nations that the row could inflict far-reaching economic\n",
            "  damage, businessmen and officials said.\n",
            "      They told Reuter correspondents in Asian capitals a U.S.\n",
            "  Move against Japan might boost protectionist sentiment in the\n",
            "  U.S. And lead to curbs on American imports of their products.\n",
            "      But some exporters said that while the conflict would hurt\n",
            "  them in the long-run, in the short-term Tokyo's loss might be\n",
            "  their gain.\n",
            "      The U.S. Has said it will impose 300 mln dlrs of tariffs on\n",
            "  imports of Japanese electronics goods on April 17, in\n",
            "  retaliation for Japan's alleged failure to stick to a pact not\n",
            "  to sell semiconductors on world markets at below cost.\n",
            "      Unofficial Japanese estimates put the impact of the tariffs\n",
            "  at 10 billion dlrs and spokesmen for major electronics firms\n",
            "  said they would virtually halt exports of products hit by the\n",
            "  new taxes.\n",
            "      \"We wouldn't be able to do business,\" said a spokesman for\n",
            "  leading Japanese electronics firm Matsushita Electric\n",
            "  Industrial Co Ltd &lt;MC.T>.\n",
            "      \"If the tariffs remain in place for any length of time\n",
            "  beyond a few months it will mean the complete erosion of\n",
            "  exports (of goods subject to tariffs) to the U.S.,\" said Tom\n",
            "  Murtha, a stock analyst at the Tokyo office of broker &lt;James\n",
            "  Capel and Co>.\n",
            "      In Taiwan, businessmen and officials are also worried.\n",
            "      \"We are aware of the seriousness of the U.S. Threat against\n",
            "  Japan because it serves as a warning to us,\" said a senior\n",
            "  Taiwanese trade official who asked not to be named.\n",
            "      Taiwan had a trade trade surplus of 15.6 billion dlrs last\n",
            "  year, 95 pct of it with the U.S.\n",
            "      The surplus helped swell Taiwan's foreign exchange reserves\n",
            "  to 53 billion dlrs, among the world's largest.\n",
            "      \"We must quickly open our markets, remove trade barriers and\n",
            "  cut import tariffs to allow imports of U.S. Products, if we\n",
            "  want to defuse problems from possible U.S. Retaliation,\" said\n",
            "  Paul Sheen, chairman of textile exporters &lt;Taiwan Safe Group>.\n",
            "      A senior official of South Korea's trade promotion\n",
            "  association said the trade dispute between the U.S. And Japan\n",
            "  might also lead to pressure on South Korea, whose chief exports\n",
            "  are similar to those of Japan.\n",
            "      Last year South Korea had a trade surplus of 7.1 billion\n",
            "  dlrs with the U.S., Up from 4.9 billion dlrs in 1985.\n",
            "      In Malaysia, trade officers and businessmen said tough\n",
            "  curbs against Japan might allow hard-hit producers of\n",
            "  semiconductors in third countries to expand their sales to the\n",
            "  U.S.\n",
            "      In Hong Kong, where newspapers have alleged Japan has been\n",
            "  selling below-cost semiconductors, some electronics\n",
            "  manufacturers share that view. But other businessmen said such\n",
            "  a short-term commercial advantage would be outweighed by\n",
            "  further U.S. Pressure to block imports.\n",
            "      \"That is a very short-term view,\" said Lawrence Mills,\n",
            "  director-general of the Federation of Hong Kong Industry.\n",
            "      \"If the whole purpose is to prevent imports, one day it will\n",
            "  be extended to other sources. Much more serious for Hong Kong\n",
            "  is the disadvantage of action restraining trade,\" he said.\n",
            "      The U.S. Last year was Hong Kong's biggest export market,\n",
            "  accounting for over 30 pct of domestically produced exports.\n",
            "      The Australian government is awaiting the outcome of trade\n",
            "  talks between the U.S. And Japan with interest and concern,\n",
            "  Industry Minister John Button said in Canberra last Friday.\n",
            "      \"This kind of deterioration in trade relations between two\n",
            "  countries which are major trading partners of ours is a very\n",
            "  serious matter,\" Button said.\n",
            "      He said Australia's concerns centred on coal and beef,\n",
            "  Australia's two largest exports to Japan and also significant\n",
            "  U.S. Exports to that country.\n",
            "      Meanwhile U.S.-Japanese diplomatic manoeuvres to solve the\n",
            "  trade stand-off continue.\n",
            "      Japan's ruling Liberal Democratic Party yesterday outlined\n",
            "  a package of economic measures to boost the Japanese economy.\n",
            "      The measures proposed include a large supplementary budget\n",
            "  and record public works spending in the first half of the\n",
            "  financial year.\n",
            "      They also call for stepped-up spending as an emergency\n",
            "  measure to stimulate the economy despite Prime Minister\n",
            "  Yasuhiro Nakasone's avowed fiscal reform program.\n",
            "      Deputy U.S. Trade Representative Michael Smith and Makoto\n",
            "  Kuroda, Japan's deputy minister of International Trade and\n",
            "  Industry (MITI), are due to meet in Washington this week in an\n",
            "  effort to end the dispute.\n",
            "  \n",
            "\n",
            "\n"
          ]
        },
        {
          "output_type": "execute_result",
          "data": {
            "text/plain": [
              "['asian',\n",
              " 'exporters',\n",
              " 'fear',\n",
              " 'damage',\n",
              " 'from',\n",
              " 'rift',\n",
              " 'mounting',\n",
              " 'trade',\n",
              " 'friction',\n",
              " 'between',\n",
              " 'the',\n",
              " 'and',\n",
              " 'japan',\n",
              " 'has',\n",
              " 'raised',\n",
              " 'fears',\n",
              " 'among',\n",
              " 'many',\n",
              " 'of',\n",
              " 'asia']"
            ]
          },
          "metadata": {},
          "execution_count": 6
        }
      ]
    },
    {
      "cell_type": "code",
      "source": [
        "# train Word2Vec model using CBOW\n",
        "model_cbow = Word2Vec(sentences=tokens_returned, vector_size=100, window=5, min_count=1, sg=0)\n",
        "check_word = 'asia'\n",
        "print(\"Model CBOW - Words similar to \",check_word , model_cbow.wv.most_similar(check_word))"
      ],
      "metadata": {
        "colab": {
          "base_uri": "https://localhost:8080/"
        },
        "id": "nFPTrUWOXY_W",
        "outputId": "5576a8af-c484-4e00-d279-c667684d405b"
      },
      "execution_count": 7,
      "outputs": [
        {
          "output_type": "stream",
          "name": "stdout",
          "text": [
            "Model CBOW - Words similar to  asia [('southeast', 0.9317502975463867), ('province', 0.8910444378852844), ('oceania', 0.8778659701347351), ('eastern', 0.876634955406189), ('oklahoma', 0.8626117706298828), ('francophone', 0.8538311719894409), ('animal', 0.8534606099128723), ('shipbuilding', 0.8520638346672058), ('ireland', 0.8520362973213196), ('latin', 0.8501904606819153)]\n"
          ]
        }
      ]
    },
    {
      "cell_type": "code",
      "source": [
        "# train Word2Vec model using skipgram\n",
        "model_skipgram = Word2Vec(sentences=tokens_returned, vector_size=100, window=5, min_count=1, sg=1)\n",
        "print(\"Model Skipgram - Words similar to \",check_word , model_skipgram.wv.most_similar(check_word))"
      ],
      "metadata": {
        "colab": {
          "base_uri": "https://localhost:8080/"
        },
        "id": "knOxI1jWUSOA",
        "outputId": "c64521f9-6ad6-490b-8606-6066297258dc"
      },
      "execution_count": 8,
      "outputs": [
        {
          "output_type": "stream",
          "name": "stdout",
          "text": [
            "Model Skipgram - Words similar to  asia [('southeast', 0.8212352395057678), ('notably', 0.813130795955658), ('oceania', 0.8126277327537537), ('europe', 0.811468780040741), ('middle', 0.7992298603057861), ('importer', 0.7854092717170715), ('africa', 0.7696919441223145), ('east', 0.7568942904472351), ('hemisphere', 0.7454398274421692), ('automobile', 0.7445586919784546)]\n"
          ]
        }
      ]
    },
    {
      "cell_type": "code",
      "source": [
        "word_similar = model_skipgram.wv.most_similar(check_word)\n",
        "word_similar"
      ],
      "metadata": {
        "colab": {
          "base_uri": "https://localhost:8080/"
        },
        "id": "czC-2BBsZ4HP",
        "outputId": "8a8ee724-3e18-4258-e140-60684dc31dd3"
      },
      "execution_count": 9,
      "outputs": [
        {
          "output_type": "execute_result",
          "data": {
            "text/plain": [
              "[('southeast', 0.8212352395057678),\n",
              " ('notably', 0.813130795955658),\n",
              " ('oceania', 0.8126277327537537),\n",
              " ('europe', 0.811468780040741),\n",
              " ('middle', 0.7992298603057861),\n",
              " ('importer', 0.7854092717170715),\n",
              " ('africa', 0.7696919441223145),\n",
              " ('east', 0.7568942904472351),\n",
              " ('hemisphere', 0.7454398274421692),\n",
              " ('automobile', 0.7445586919784546)]"
            ]
          },
          "metadata": {},
          "execution_count": 9
        }
      ]
    },
    {
      "cell_type": "code",
      "source": [
        "word_vectors = [model_skipgram.wv[word] for word, similarity in word_similar]\n",
        "\n",
        "pca = PCA(n_components=2)\n",
        "reduced_vectors = pca.fit_transform(word_vectors)\n",
        "\n",
        "plt.figure(figsize=(8, 6))\n",
        "plt.scatter(reduced_vectors[:, 0], reduced_vectors[:, 1])\n",
        "\n",
        "for i, (word, similarity) in enumerate(word_similar):\n",
        "    plt.annotate(word, (reduced_vectors[i, 0], reduced_vectors[i, 1]))\n",
        "\n",
        "plt.xlabel(\"Principal Component 1\")\n",
        "plt.ylabel(\"Principal Component 2\")\n",
        "plt.title(f\"PCA of words similar to '{check_word}'\")\n",
        "plt.show()\n"
      ],
      "metadata": {
        "colab": {
          "base_uri": "https://localhost:8080/",
          "height": 564
        },
        "id": "ZtOuiDYDaFy9",
        "outputId": "e8eab0bf-e19d-4895-b39a-704e3c4b59f0"
      },
      "execution_count": 10,
      "outputs": [
        {
          "output_type": "display_data",
          "data": {
            "text/plain": [
              "<Figure size 800x600 with 1 Axes>"
            ],
            "image/png": "[encoded data removed]"
          },
          "metadata": {}
        }
      ]
    },
    {
      "cell_type": "code",
      "source": [
        "# prompt: implement above check_word similarity using TFIDF\n",
        "\n",
        "import nltk\n",
        "import nltk.corpus\n",
        "from nltk.tokenize import word_tokenize\n",
        "import gensim\n",
        "from gensim.models import Word2Vec\n",
        "import matplotlib.pyplot as plt\n",
        "from sklearn.decomposition import PCA\n",
        "from sklearn.feature_extraction.text import TfidfVectorizer\n",
        "\n",
        "def check_relevant_docs_tfidf(check_word, documents, top_n=10):\n",
        "    \"\"\"\n",
        "    Finds similar words to a given word using TF-IDF.\n",
        "    \"\"\"\n",
        "    vectorizer = TfidfVectorizer()\n",
        "    tfidf_matrix = vectorizer.fit_transform([reuters.raw(file) for file in documents])\n",
        "    feature_names = vectorizer.get_feature_names_out()\n",
        "\n",
        "    # Find the index of the check_word in the feature names\n",
        "    try:\n",
        "        check_word_index = list(feature_names).index(check_word)\n",
        "    except ValueError:\n",
        "        print(f\"Word '{check_word}' not found in the corpus.\")\n",
        "        return []\n",
        "\n",
        "    # Get TF-IDF scores for the check word\n",
        "    check_word_tfidf = tfidf_matrix[:, check_word_index].toarray().flatten()\n",
        "\n",
        "    # Find documents with high TF-IDF for the check_word\n",
        "    relevant_docs = sorted(range(len(documents)), key=lambda i: check_word_tfidf[i], reverse=True)\n",
        "    return relevant_docs[:top_n]\n",
        "\n",
        "\n",
        "def check_word_similarity_tfidf(check_word, documents, top_n=10):\n",
        "    \"\"\"\n",
        "    Finds similar words to a given word using TF-IDF.\n",
        "    \"\"\"\n",
        "    vectorizer = TfidfVectorizer()\n",
        "    tfidf_matrix = vectorizer.fit_transform([reuters.raw(file) for file in documents])\n",
        "    feature_names = vectorizer.get_feature_names_out()\n",
        "\n",
        "    # Find the index of the check_word in the feature names\n",
        "    try:\n",
        "        check_word_index = list(feature_names).index(check_word)\n",
        "    except ValueError:\n",
        "        print(f\"Word '{check_word}' not found in the corpus.\")\n",
        "        return []\n",
        "\n",
        "    # Get TF-IDF scores for the check word\n",
        "    check_word_tfidf = tfidf_matrix[:, check_word_index].toarray().flatten()\n",
        "\n",
        "    # Find documents with high TF-IDF for the check_word\n",
        "    relevant_docs = sorted(range(len(documents)), key=lambda i: check_word_tfidf[i], reverse=True)\n",
        "\n",
        "    similar_words = []\n",
        "    for doc_index in relevant_docs[:5]:  # Consider top 5 documents\n",
        "        doc_text = reuters.raw(documents[doc_index])\n",
        "        doc_tokens = preprocess(doc_text)\n",
        "\n",
        "        # Calculate TF-IDF for words in the relevant document\n",
        "        doc_tfidf_matrix = vectorizer.transform([doc_text])\n",
        "        doc_feature_indices = doc_tfidf_matrix.nonzero()[1]\n",
        "        doc_tfidf_scores = doc_tfidf_matrix.data\n",
        "\n",
        "        for i in range(len(doc_feature_indices)):\n",
        "            word = feature_names[doc_feature_indices[i]]\n",
        "            if word != check_word and word not in similar_words:\n",
        "                similar_words.append(word)\n",
        "                if len(similar_words) >= top_n:\n",
        "                    break\n",
        "\n",
        "        if len(similar_words) >= top_n:\n",
        "            break\n",
        "\n",
        "    return similar_words\n",
        "\n",
        "# Example usage\n",
        "check_word = 'asia'\n",
        "similar_words_tfidf = check_word_similarity_tfidf(check_word, documents)\n",
        "print(f\"TF-IDF - Words similar to '{check_word}': {similar_words_tfidf}\")\n"
      ],
      "metadata": {
        "colab": {
          "base_uri": "https://localhost:8080/"
        },
        "id": "G36cbjnLa0xn",
        "outputId": "b79e3de2-373b-4714-855e-4d43e1983dc7"
      },
      "execution_count": 14,
      "outputs": [
        {
          "output_type": "stream",
          "name": "stdout",
          "text": [
            "TF-IDF - Words similar to 'asia': ['000', '440', '60', 'and', 'bags', 'below', 'circles', 'circulated', 'clients', 'coffee']\n"
          ]
        }
      ]
    },
    {
      "cell_type": "code",
      "source": [
        "check_word= 'coffee'\n",
        "similar_words_tfidf = check_word_similarity_tfidf(check_word, documents)\n",
        "print(f\"TF-IDF - Words found in documents related to word '{check_word}': {similar_words_tfidf}\")\n",
        "\n",
        "relevant_docs = check_relevant_docs_tfidf(check_word, documents)\n",
        "print(f\"TF-IDF - Relevant documents retrieved for word '{check_word}': {reuters.raw(documents[relevant_docs[0]])}\")"
      ],
      "metadata": {
        "colab": {
          "base_uri": "https://localhost:8080/"
        },
        "id": "OSdRiLnga00-",
        "outputId": "c0ac9c60-ce5f-4ed1-c48d-6b1722af6cf6"
      },
      "execution_count": 18,
      "outputs": [
        {
          "output_type": "stream",
          "name": "stdout",
          "text": [
            "TF-IDF - Words found in documents related to word 'coffee': ['1987', '279', '300', '580', '720', 'after', 'ago', 'agree', 'agreement', 'agreements']\n",
            "TF-IDF - Relevant documents retrieved for word 'coffee': COFFEE PRICES BAD NEWS FOR LATIN AMERICA -MINISTER\n",
            "  A senior Nicaraguan official said a\n",
            "  recent plunge in coffee prices was economically and politically\n",
            "  disastrous for Latin American coffee-producing countries.\n",
            "      Nicaraguan Foreign Trade Minister Alejandro Martinez Cuenca\n",
            "  was in London to brief International Coffee Organisation (ICO)\n",
            "  executive board producer members after a meeting last weekend\n",
            "  in Managua attended by eight Latin American coffee producers to\n",
            "  discuss the fall in coffee prices.\n",
            "      London coffee prices slid 300 stg per tonne in March, to\n",
            "  1,279 stg from 1,580 stg at end-February.\n",
            "      Martinez told reporters the price fall since the ICO failed\n",
            "  to agree export quotas on March 1 has had disastrous results on\n",
            "  Latin America, both economically and politically.\n",
            "      He urged continued negotiations among coffee producers to\n",
            "  pave the way for a coffee export quota agreement by September.\n",
            "      Coffee export quotas, used to regulate coffee prices under\n",
            "  an International Coffee Agreement, were suspended a year ago\n",
            "  when prices soared in response to a drought in Brazil.\n",
            "      Central American economic ministers have estimated the\n",
            "  region will lose 720 mln dlrs in foreign exchange earnings in\n",
            "  1987 if coffee prices are not rescued by a quota arrangement,\n",
            "  Martinez said.\n",
            "      He said ICO quota talks broke down last month because\n",
            "  consumer members lack the political will to fully support\n",
            "  commodity agreements, and because consumers tried to dictate to\n",
            "  producers.\n",
            "  \n",
            "\n",
            "\n"
          ]
        }
      ]
    }
  ]
}